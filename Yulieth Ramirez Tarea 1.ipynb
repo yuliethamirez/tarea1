{
 "cells": [
  {
   "cell_type": "markdown",
   "metadata": {},
   "source": [
    "# Computational Astrophysics\n",
    "## Exercises 01."
   ]
  },
  {
   "cell_type": "markdown",
   "metadata": {},
   "source": [
    "**Name:** \n",
    "\n",
    "---Yulieth Andrea Ramirez"
   ]
  },
  {
   "cell_type": "markdown",
   "metadata": {},
   "source": [
    "## 1. Radius of a Star\n",
    "**`Carroll and Ostlie (2017). Section 3.4`**\n",
    "\n",
    "Define a function that calculates the radius of a star from its luminosity $\\frac{L_*}{L_{\\odot}}$ (i.e. luminosity of the star in units of the solar luminosity) and its effective temperature $T_{eff}$ (in Kelvins) according to the equation\n",
    "\n",
    "\\begin{equation}\n",
    "L_* = 4\\pi \\sigma R_*^2 T_{eff}^4 ,\n",
    "\\end{equation}\n",
    "\n",
    "where $\\sigma$ is the Steffan-Boltzman constant. The radius of the star, $R_∗$ must be returned in units of solar radius, $R_{\\odot}$.\n",
    "\n",
    "**Extra Work:** Implement some routine to catch any invalid input such as, for example, a negative temperature or luminosity."
   ]
  },
  {
   "cell_type": "code",
   "execution_count": 140,
   "metadata": {},
   "outputs": [
    {
     "data": {
      "text/latex": [
       "$1.3806485 \\times 10^{-23} \\; \\mathrm{\\frac{J}{K}}$"
      ],
      "text/plain": [
       "<<class 'astropy.constants.codata2014.CODATA2014'> name=u'Boltzmann constant' value=1.38064852e-23 uncertainty=7.9e-30 unit='J / K' reference=u'CODATA 2014'>"
      ]
     },
     "execution_count": 140,
     "metadata": {},
     "output_type": "execute_result"
    }
   ],
   "source": [
    "import numpy as np\n",
    "import astropy.units as u\n",
    "from astropy.constants import k_B\n",
    "k_B\n"
   ]
  },
  {
   "cell_type": "code",
   "execution_count": 142,
   "metadata": {},
   "outputs": [
    {
     "data": {
      "text/latex": [
       "$6.957 \\times 10^{8} \\; \\mathrm{m}$"
      ],
      "text/plain": [
       "<<class 'astropy.constants.iau2015.IAU2015'> name=u'Nominal solar radius' value=695700000.0 uncertainty=0.0 unit='m' reference=u'IAU 2015 Resolution B 3'>"
      ]
     },
     "execution_count": 142,
     "metadata": {},
     "output_type": "execute_result"
    }
   ],
   "source": [
    "import numpy as np\n",
    "import astropy.units as u\n",
    "from astropy.constants import R_sun\n",
    "R_sun\n"
   ]
  },
  {
   "cell_type": "code",
   "execution_count": 143,
   "metadata": {},
   "outputs": [
    {
     "data": {
      "text/latex": [
       "$1.9884754 \\times 10^{30} \\; \\mathrm{kg}$"
      ],
      "text/plain": [
       "<<class 'astropy.constants.iau2015.IAU2015'> name=u'Solar mass' value=1.98847541534e+30 uncertainty=9.23614009354e+25 unit='kg' reference=u'IAU 2015 Resolution B 3 + CODATA 2014'>"
      ]
     },
     "execution_count": 143,
     "metadata": {},
     "output_type": "execute_result"
    }
   ],
   "source": [
    "import numpy as np\n",
    "import astropy.units as u\n",
    "from astropy.constants import M_sun\n",
    "M_sun"
   ]
  },
  {
   "cell_type": "code",
   "execution_count": 144,
   "metadata": {},
   "outputs": [
    {
     "data": {
      "text/latex": [
       "$3.828 \\times 10^{26} \\; \\mathrm{W}$"
      ],
      "text/plain": [
       "<<class 'astropy.constants.iau2015.IAU2015'> name=u'Nominal solar luminosity' value=3.828e+26 uncertainty=0.0 unit='W' reference=u'IAU 2015 Resolution B 3'>"
      ]
     },
     "execution_count": 144,
     "metadata": {},
     "output_type": "execute_result"
    }
   ],
   "source": [
    "import numpy as np\n",
    "import astropy.units as u\n",
    "from astropy.constants import L_sun\n",
    "L_sun"
   ]
  },
  {
   "cell_type": "code",
   "execution_count": 145,
   "metadata": {},
   "outputs": [
    {
     "name": "stdout",
     "output_type": "stream",
     "text": [
      "5772.09871549 W(1/4) / m(1/2)\n"
     ]
    }
   ],
   "source": [
    "Teff=np.sqrt(np.sqrt(L_sun/(4*np.pi*(R_sun**2)*0.0000000567)))\n",
    "print (Teff)\n"
   ]
  },
  {
   "cell_type": "code",
   "execution_count": 146,
   "metadata": {},
   "outputs": [
    {
     "name": "stdout",
     "output_type": "stream",
     "text": [
      "(0.7, 0.5)\n"
     ]
    }
   ],
   "source": [
    " r_L=0.5\n",
    " r_T=0.7\n",
    "print (r_T, r_L)"
   ]
  },
  {
   "cell_type": "code",
   "execution_count": 147,
   "metadata": {},
   "outputs": [],
   "source": [
    "def luminosidad_1(r_L, r_T):\n",
    "    r_R=0.\n",
    "    if r_L>0 and r_T >=0.01:\n",
    "        r_R=np.sqrt(r_L/(r_T)**4)\n",
    "    else:\n",
    "        print(\"Debe ser mayor a 0\")\n",
    "        \n",
    "    return r_R\n",
    "\n"
   ]
  },
  {
   "cell_type": "code",
   "execution_count": 148,
   "metadata": {},
   "outputs": [
    {
     "name": "stdout",
     "output_type": "stream",
     "text": [
      "('La razon es', 1.4430750636460155)\n"
     ]
    }
   ],
   "source": [
    "print(\"La razon es\",luminosidad_1(r_L,r_T))"
   ]
  },
  {
   "cell_type": "raw",
   "metadata": {},
   "source": []
  },
  {
   "cell_type": "markdown",
   "metadata": {},
   "source": [
    "---\n",
    "\n",
    "## 2. Star Information\n",
    "**`Carroll and Ostlie (2017). Section 3.1`**\n",
    "\n",
    "The file `stars_data.txt` contains a list with the name of some of the nearest stars and some of their properties such as distance from the Sun in light-years, the apparent brightness and the luminosity (in units of the solar luminosity). Read the data from this file and store the information in a numpy array. \n",
    "\n",
    "1. Define a function that returns a list of the stars in order of distance from the Sun and writes the ordered information into a .txt file.\n",
    "\n",
    "2. Define a function that returns a list of the stars in order of luminosity and writes the ordered information into a .txt file.\n",
    "\n",
    "**Note:** The apparent brightness is how bright the stars look in our sky compared to the brightness of Sirius A. The Luminosity, or True brightness, is how bright the stars would look if all were at the same distance compared to the Sun."
   ]
  },
  {
   "cell_type": "code",
   "execution_count": 173,
   "metadata": {},
   "outputs": [],
   "source": [
    "import numpy as np\n",
    "infile='stars_data.txt'"
   ]
  },
  {
   "cell_type": "code",
   "execution_count": 183,
   "metadata": {},
   "outputs": [
    {
     "name": "stderr",
     "output_type": "stream",
     "text": [
      "/home/yulieth/anaconda2/lib/python2.7/site-packages/ipykernel_launcher.py:3: ParserWarning: Falling back to the 'python' engine because the 'c' engine does not support regex separators (separators > 1 char and different from '\\s+' are interpreted as regex); you can avoid this warning by specifying engine='python'.\n",
      "  This is separate from the ipykernel package so we can avoid doing imports until\n"
     ]
    },
    {
     "data": {
      "text/html": [
       "<div>\n",
       "<style scoped>\n",
       "    .dataframe tbody tr th:only-of-type {\n",
       "        vertical-align: middle;\n",
       "    }\n",
       "\n",
       "    .dataframe tbody tr th {\n",
       "        vertical-align: top;\n",
       "    }\n",
       "\n",
       "    .dataframe thead th {\n",
       "        text-align: right;\n",
       "    }\n",
       "</style>\n",
       "<table border=\"1\" class=\"dataframe\">\n",
       "  <thead>\n",
       "    <tr style=\"text-align: right;\">\n",
       "      <th></th>\n",
       "      <th># Name</th>\n",
       "      <th>Distance (light-years)</th>\n",
       "      <th>Apparent brightness</th>\n",
       "      <th>Luminosity</th>\n",
       "    </tr>\n",
       "  </thead>\n",
       "  <tbody>\n",
       "    <tr>\n",
       "      <th>0</th>\n",
       "      <td>’Alpha Centauri A’</td>\n",
       "      <td>4.3</td>\n",
       "      <td>0.260000</td>\n",
       "      <td>1.56000</td>\n",
       "    </tr>\n",
       "    <tr>\n",
       "      <th>1</th>\n",
       "      <td>’Alpha Centauri B’</td>\n",
       "      <td>4.3</td>\n",
       "      <td>0.077000</td>\n",
       "      <td>0.45000</td>\n",
       "    </tr>\n",
       "    <tr>\n",
       "      <th>2</th>\n",
       "      <td>’Alpha Centauri C’</td>\n",
       "      <td>4.2</td>\n",
       "      <td>0.000010</td>\n",
       "      <td>0.00006</td>\n",
       "    </tr>\n",
       "    <tr>\n",
       "      <th>3</th>\n",
       "      <td>\"Barnard’s Star\"</td>\n",
       "      <td>6.0</td>\n",
       "      <td>0.000040</td>\n",
       "      <td>0.00050</td>\n",
       "    </tr>\n",
       "    <tr>\n",
       "      <th>4</th>\n",
       "      <td>’Wolf 359’</td>\n",
       "      <td>7.7</td>\n",
       "      <td>0.000001</td>\n",
       "      <td>0.00002</td>\n",
       "    </tr>\n",
       "    <tr>\n",
       "      <th>5</th>\n",
       "      <td>’BD +36 degrees 2147’</td>\n",
       "      <td>8.2</td>\n",
       "      <td>0.000300</td>\n",
       "      <td>0.00600</td>\n",
       "    </tr>\n",
       "    <tr>\n",
       "      <th>6</th>\n",
       "      <td>’Luyten 726-8 A’</td>\n",
       "      <td>8.4</td>\n",
       "      <td>0.000003</td>\n",
       "      <td>0.00006</td>\n",
       "    </tr>\n",
       "    <tr>\n",
       "      <th>7</th>\n",
       "      <td>’Luyten 726-8 B’</td>\n",
       "      <td>8.4</td>\n",
       "      <td>0.000002</td>\n",
       "      <td>0.00004</td>\n",
       "    </tr>\n",
       "    <tr>\n",
       "      <th>8</th>\n",
       "      <td>’Sirius A’</td>\n",
       "      <td>8.6</td>\n",
       "      <td>1.000000</td>\n",
       "      <td>23.60000</td>\n",
       "    </tr>\n",
       "    <tr>\n",
       "      <th>9</th>\n",
       "      <td>’Sirius B’</td>\n",
       "      <td>8.6</td>\n",
       "      <td>0.001000</td>\n",
       "      <td>0.00300</td>\n",
       "    </tr>\n",
       "    <tr>\n",
       "      <th>10</th>\n",
       "      <td>’Ross 154’</td>\n",
       "      <td>9.4</td>\n",
       "      <td>0.000020</td>\n",
       "      <td>0.00050</td>\n",
       "    </tr>\n",
       "  </tbody>\n",
       "</table>\n",
       "</div>"
      ],
      "text/plain": [
       "                   # Name  Distance (light-years)  Apparent brightness  \\\n",
       "0      ’Alpha Centauri A’                     4.3             0.260000   \n",
       "1      ’Alpha Centauri B’                     4.3             0.077000   \n",
       "2      ’Alpha Centauri C’                     4.2             0.000010   \n",
       "3        \"Barnard’s Star\"                     6.0             0.000040   \n",
       "4              ’Wolf 359’                     7.7             0.000001   \n",
       "5   ’BD +36 degrees 2147’                     8.2             0.000300   \n",
       "6        ’Luyten 726-8 A’                     8.4             0.000003   \n",
       "7        ’Luyten 726-8 B’                     8.4             0.000002   \n",
       "8              ’Sirius A’                     8.6             1.000000   \n",
       "9              ’Sirius B’                     8.6             0.001000   \n",
       "10             ’Ross 154’                     9.4             0.000020   \n",
       "\n",
       "    Luminosity  \n",
       "0      1.56000  \n",
       "1      0.45000  \n",
       "2      0.00006  \n",
       "3      0.00050  \n",
       "4      0.00002  \n",
       "5      0.00600  \n",
       "6      0.00006  \n",
       "7      0.00004  \n",
       "8     23.60000  \n",
       "9      0.00300  \n",
       "10     0.00050  "
      ]
     },
     "execution_count": 183,
     "metadata": {},
     "output_type": "execute_result"
    }
   ],
   "source": [
    "import pandas as pd\n",
    "infile='stars_data.txt'\n",
    "data=pd.read_csv(infile, delimiter=', ')\n",
    "data\n",
    "\n",
    "\n"
   ]
  },
  {
   "cell_type": "code",
   "execution_count": 186,
   "metadata": {},
   "outputs": [],
   "source": [
    "write_dist=data.sort_values(by='Distance (light-years)')\n",
    "write_lum=data.sort_values(by='Luminosity')"
   ]
  },
  {
   "cell_type": "code",
   "execution_count": null,
   "metadata": {},
   "outputs": [],
   "source": [
    "Distance=open('Distance','w')\n",
    "Distance.write('Stars data ordered by distance to the sun')"
   ]
  },
  {
   "cell_type": "markdown",
   "metadata": {},
   "source": [
    "---\n",
    "\n",
    "## 3. Lorentz Gamma Function\n",
    "**`Carroll and Ostlie (2017). Section 4.2`**\n",
    "\n",
    "1. Define a function that calculates the Lorentz gamma function,\n",
    "\n",
    "\\begin{equation}\n",
    "\\gamma (v) = \\frac{1}{\\sqrt{1-\\frac{v^2}{c^2}}}\n",
    "\\end{equation}\n",
    "\n",
    "for velocities in the range $0\\leq v < c$. \n",
    "\n",
    "2. Define a function that writes a file with two columns: the first column must have the values of the velocity β between 0 and 1 in increments of 0.01. The second column must have the values of the corresponding values of the Lorentz gamma function. Include an adequate header for the file."
   ]
  },
  {
   "cell_type": "code",
   "execution_count": 238,
   "metadata": {},
   "outputs": [
    {
     "data": {
      "text/latex": [
       "$2.9979246 \\times 10^{8} \\; \\mathrm{\\frac{m}{s}}$"
      ],
      "text/plain": [
       "<<class 'astropy.constants.codata2014.CODATA2014'> name=u'Speed of light in vacuum' value=299792458.0 uncertainty=0.0 unit='m / s' reference=u'CODATA 2014'>"
      ]
     },
     "execution_count": 238,
     "metadata": {},
     "output_type": "execute_result"
    }
   ],
   "source": [
    "import numpy as np\n",
    "import astropy.units as u\n",
    "from astropy.constants import c\n",
    "c\n"
   ]
  },
  {
   "cell_type": "code",
   "execution_count": 249,
   "metadata": {},
   "outputs": [
    {
     "name": "stdout",
     "output_type": "stream",
     "text": [
      "ingrese la velocidad:0.9\n",
      "('El factor de Lorentz es:', '2.294')\n"
     ]
    }
   ],
   "source": [
    "velocidad=float(input(\"Ingrese la velocidad como factor de c (por ej. 0.85 significa el 85% de c):\"))\n",
    "funcion_Lorentz=1/np.sqrt(1-velocidad**2)\n",
    "funcion_Lorentz=\"{0:.3f}\".format(funcion_Lorentz)\n",
    "print(\"El factor de Lorentz es:\", funcion_Lorentz)"
   ]
  },
  {
   "cell_type": "code",
   "execution_count": 246,
   "metadata": {},
   "outputs": [],
   "source": [
    "def LorentzGamma(v):\n",
    "    import numpy as np\n",
    "    c=3E8\n",
    "    g=1/np.sqrt (1-(v**2/c**2))\n",
    "    return g"
   ]
  },
  {
   "cell_type": "code",
   "execution_count": null,
   "metadata": {},
   "outputs": [],
   "source": [
    "LorentzGamma(0.8)"
   ]
  },
  {
   "cell_type": "code",
   "execution_count": null,
   "metadata": {},
   "outputs": [],
   "source": [
    "b=0\n",
    "y=0\n",
    "print ('{:1}{:}'.format('b','y'))\n",
    "while (b<1):\n",
    "    b=b+0.1\n",
    "    y=1/np.sqrt (1-(v**2/c**2))\n",
    "    print ('{:10}{:10}'.format(b,y))"
   ]
  },
  {
   "cell_type": "markdown",
   "metadata": {},
   "source": [
    "¡¡ Happy Coding !!"
   ]
  },
  {
   "cell_type": "code",
   "execution_count": null,
   "metadata": {},
   "outputs": [],
   "source": []
  }
 ],
 "metadata": {
  "kernelspec": {
   "display_name": "Python 2",
   "language": "python",
   "name": "python2"
  },
  "language_info": {
   "codemirror_mode": {
    "name": "ipython",
    "version": 2
   },
   "file_extension": ".py",
   "mimetype": "text/x-python",
   "name": "python",
   "nbconvert_exporter": "python",
   "pygments_lexer": "ipython2",
   "version": "2.7.16"
  }
 },
 "nbformat": 4,
 "nbformat_minor": 2
}
